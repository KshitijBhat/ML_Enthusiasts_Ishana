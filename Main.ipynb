{
  "nbformat": 4,
  "nbformat_minor": 0,
  "metadata": {
    "colab": {
      "name": "Main.ipynb",
      "provenance": [],
      "collapsed_sections": [],
      "include_colab_link": true
    },
    "kernelspec": {
      "name": "python3",
      "display_name": "Python 3"
    },
    "language_info": {
      "name": "python"
    }
  },
  "cells": [
    {
      "cell_type": "markdown",
      "metadata": {
        "id": "view-in-github",
        "colab_type": "text"
      },
      "source": [
        "<a href=\"https://colab.research.google.com/github/KshitijBhat/ML_Enthusiasts_Ishana/blob/main/Main.ipynb\" target=\"_parent\"><img src=\"https://colab.research.google.com/assets/colab-badge.svg\" alt=\"Open In Colab\"/></a>"
      ]
    },
    {
      "cell_type": "markdown",
      "metadata": {
        "id": "bj1ySrITL5d-"
      },
      "source": [
        "Requires GPU (CUDA). Please connect to a GPU runtime.\n",
        "\n",
        "Be sure to mount/upload the drive folder `ML_enthsiasts_Ishana`"
      ]
    },
    {
      "cell_type": "code",
      "metadata": {
        "id": "2Nq2UCSa5G0J"
      },
      "source": [
        "import os\n",
        "import cv2\n",
        "import numpy as np\n",
        "import matplotlib.pyplot as plt\n",
        "import networkx as nx\n",
        "\n",
        "import warnings\n",
        "warnings.filterwarnings(\"ignore\")\n",
        "\n",
        "import json\n",
        "\n",
        "!git clone https://github.com/zlckanata/DeepGlobe-Road-Extraction-Challenge.git\n",
        "!mv DeepGlobe-Road-Extraction-Challenge DeepGlobe\n",
        "!git clone https://github.com/KshitijBhat/ML_Enthusiasts_Ishana.git\n",
        "from ML_Enthusiasts_Ishana.Helpers import *\n",
        "\n",
        "def get_path(image,t, image_path):\n",
        "    \n",
        "    kernel = np.array([[0, -1, 0],\n",
        "                   [-1, 5,-1],\n",
        "                   [0, -1, 0]])\n",
        "    img_sharp = cv2.filter2D(image, ddepth=-1, kernel=kernel)\n",
        "    out = cv2.addWeighted( image, 1.1, img_sharp, 0.1, -5)\n",
        "    squares = split_stitch(out)\n",
        "    \n",
        "    masks = []\n",
        "    for cut_img in squares:\n",
        "        \n",
        "        mask = solver.test_one_img_from_path(cut_img)\n",
        "        mask[mask>0.7] = 255\n",
        "        mask[mask<=0.7] = 0\n",
        "        mask = np.concatenate([mask[:,:,None],mask[:,:,None],mask[:,:,None]],axis=2)\n",
        "        masks.append(mask.astype(np.uint8))\n",
        "    prediction = split_stitch(image,masks=masks)\n",
        "    points_path = image_path[0:len(image_path)-4] + \".json\"\n",
        "\n",
        "    points = open(points_path) \n",
        "    coords = json.load(points)\n",
        "    start = np.array(coords[\"Start\"])\n",
        "    end = np.array(coords[\"End\"])\n",
        "\n",
        "    out = prediction\n",
        "    out = cv2.cvtColor(out,cv2.COLOR_BGR2GRAY)\n",
        "    grid = np.ceil((255-out)/255).astype('int')\n",
        "    \n",
        "    edges = (cv2.Canny(out, threshold1=100, threshold2=200))/255\n",
        "    ngrid = narrowize(grid, edges,t)\n",
        "    G = initgraph(ngrid)\n",
        "    start = tuple(start[::-1])\n",
        "    end = tuple(end[::-1])\n",
        "\n",
        "    astar_path = generate_path(G,start,end,euclidean)\n",
        "\n",
        "    return astar_path\n",
        "    \n",
        "def submit(): \n",
        "    ans = {}\n",
        "    for id in image_ids:\n",
        "        image = cv2.imread(source+id)\n",
        "        paths = get_path(image,4,source+id)\n",
        "        if paths == None:\n",
        "            paths = get_path(image,0,source+id)\n",
        "        path = []\n",
        "        for point in paths:\n",
        "            (x,y) = point\n",
        "            path.append([int(y),int(x)])\n",
        "        ans[id] = path\n",
        "        print(id,': Done')\n",
        "    json_object = json.dumps(ans, indent = 4)\n",
        "    with open(\"Submission.json\", \"w\") as outfile:\n",
        "        outfile.write(json_object) \n"
      ],
      "execution_count": null,
      "outputs": []
    },
    {
      "cell_type": "markdown",
      "metadata": {
        "id": "QAvyOv-R8gOr"
      },
      "source": [
        "Upload the 60% images data and JSON files to a folder and fill in the path in the following cell . If it is in a github repo, clone it here and fill in the corresponding path. Example: `source = 'drive/MyDrive/Ishana/Data/'`\n",
        "\n",
        "JSON file name should be same as of the image.\n",
        "\n",
        "60% data Folder structure: \n",
        "```\n",
        "Data\n",
        "  |_____Image1.json\n",
        "  |_____Image1.png\n",
        "  |_____Image2.json\n",
        "  |_____Image2.png\n",
        "  : ...\n",
        "  : ...\n",
        "\n",
        "```\n",
        "\n",
        "\n"
      ]
    },
    {
      "cell_type": "code",
      "metadata": {
        "id": "IAeWN-ZF_Xbb"
      },
      "source": [
        "source =  '<insert path here>' #Like 'drive/MyDrive/Ishana/Data/'\n",
        "val = os.listdir(source)\n",
        "image_ids = list()\n",
        "for filename in val:\n",
        "  if filename.endswith('.png'):\n",
        "    image_ids.append(filename)\n",
        "print(image_ids)    "
      ],
      "execution_count": null,
      "outputs": []
    },
    {
      "cell_type": "markdown",
      "metadata": {
        "id": "R67Kmwd_LWNL"
      },
      "source": [
        "Unzip the `weights.zip` attached in the folder named `ML_enthusiasts_Ishana` by running the following cell.\n",
        "\n",
        "Insert the path of the `weights.zip` file.\n",
        "\n",
        "Example: `model=drive/Shareddrives/ML_enthusiasts_Ishana/weights.zip`"
      ]
    },
    {
      "cell_type": "code",
      "metadata": {
        "id": "TabWFhcyH7Di"
      },
      "source": [
        "!model=<insert path here> ; unzip $model\n",
        "solver = TTAFrame(DinkNet34)\n",
        "solver.load('log01_dink34.th')"
      ],
      "execution_count": null,
      "outputs": []
    },
    {
      "cell_type": "markdown",
      "metadata": {
        "id": "0WHzg_jTd-ER"
      },
      "source": [
        "To generate the JSON file for the final submission, run the following cell. The JSON file will be generated as `Submission.json` in the Files section. Download it for evaluation"
      ]
    },
    {
      "cell_type": "code",
      "metadata": {
        "id": "WYJMqLRn9Hhy"
      },
      "source": [
        "submit()"
      ],
      "execution_count": null,
      "outputs": []
    }
  ]
}